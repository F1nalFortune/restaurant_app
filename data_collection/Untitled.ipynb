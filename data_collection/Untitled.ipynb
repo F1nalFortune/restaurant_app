{
 "cells": [
  {
   "cell_type": "code",
   "execution_count": 1,
   "metadata": {},
   "outputs": [],
   "source": [
    "import pandas as pd"
   ]
  },
  {
   "cell_type": "code",
   "execution_count": 9,
   "metadata": {},
   "outputs": [],
   "source": [
    "addresses = pd.read_csv(\"./addresses.csv\", index_col=0)\n",
    "ct_restaurants = pd.read_csv(\"./ct_restaurants.csv\", index_col=0)\n",
    "discover_ct = pd.read_csv(\"./discover_ct.csv\", index_col=0)\n",
    "\n",
    "restaurants = pd.read_csv(\"./restaurants.csv\", index_col=0)\n",
    "second_thread = pd.read_csv(\"./second_thread.csv\", index_col=0)\n",
    "state_data = pd.read_csv(\"./state_data.csv\", index_col=0)"
   ]
  },
  {
   "cell_type": "code",
   "execution_count": 10,
   "metadata": {},
   "outputs": [
    {
     "data": {
      "text/plain": [
       "9679"
      ]
     },
     "execution_count": 10,
     "metadata": {},
     "output_type": "execute_result"
    }
   ],
   "source": [
    "len(ct_restaurants.drop_duplicates())"
   ]
  },
  {
   "cell_type": "code",
   "execution_count": 11,
   "metadata": {},
   "outputs": [
    {
     "data": {
      "text/html": [
       "<div>\n",
       "<style scoped>\n",
       "    .dataframe tbody tr th:only-of-type {\n",
       "        vertical-align: middle;\n",
       "    }\n",
       "\n",
       "    .dataframe tbody tr th {\n",
       "        vertical-align: top;\n",
       "    }\n",
       "\n",
       "    .dataframe thead th {\n",
       "        text-align: right;\n",
       "    }\n",
       "</style>\n",
       "<table border=\"1\" class=\"dataframe\">\n",
       "  <thead>\n",
       "    <tr style=\"text-align: right;\">\n",
       "      <th></th>\n",
       "      <th>title</th>\n",
       "      <th>star_count</th>\n",
       "      <th>review_count</th>\n",
       "      <th>attributes</th>\n",
       "      <th>summary</th>\n",
       "      <th>address</th>\n",
       "      <th>hours</th>\n",
       "      <th>menu</th>\n",
       "      <th>phone</th>\n",
       "      <th>website</th>\n",
       "      <th>pictures</th>\n",
       "      <th>city</th>\n",
       "      <th>state</th>\n",
       "    </tr>\n",
       "  </thead>\n",
       "  <tbody>\n",
       "    <tr>\n",
       "      <td>0</td>\n",
       "      <td>Crave</td>\n",
       "      <td>4.5</td>\n",
       "      <td>676 Google reviews</td>\n",
       "      <td>['$$', 'Spanish restaurant']</td>\n",
       "      <td>Caribbean fusion cuisine &amp; cocktails with a bi...</td>\n",
       "      <td>102 Main St, Ansonia, CT 06401</td>\n",
       "      <td>{'Tuesday': '11AM–9:30PM', 'Wednesday': '11AM–...</td>\n",
       "      <td>http://crave102.com/home/the-menu/lunch/</td>\n",
       "      <td>(203) 735-3300</td>\n",
       "      <td>http://www.crave102.com/</td>\n",
       "      <td>['https://lh5.googleusercontent.com/p/AF1QipML...</td>\n",
       "      <td>Ansonia</td>\n",
       "      <td>Connecticut</td>\n",
       "    </tr>\n",
       "    <tr>\n",
       "      <td>1</td>\n",
       "      <td>Area 143</td>\n",
       "      <td>5.0</td>\n",
       "      <td>20 Google reviews</td>\n",
       "      <td>['Restaurant']</td>\n",
       "      <td>NaN</td>\n",
       "      <td>143 N Main St, Ansonia, CT 06401</td>\n",
       "      <td>{'Tuesday': '12–10PM', 'Wednesday': '12–10PM',...</td>\n",
       "      <td>http://places.singleplatform.com/area-143/menu...</td>\n",
       "      <td>(203) 516-5456</td>\n",
       "      <td>NaN</td>\n",
       "      <td>['https://lh5.googleusercontent.com/p/AF1QipNz...</td>\n",
       "      <td>Ansonia</td>\n",
       "      <td>Connecticut</td>\n",
       "    </tr>\n",
       "    <tr>\n",
       "      <td>2</td>\n",
       "      <td>Massimino's Pizzeria</td>\n",
       "      <td>4.5</td>\n",
       "      <td>147 Google reviews</td>\n",
       "      <td>['$', 'Pizza restaurant']</td>\n",
       "      <td>NaN</td>\n",
       "      <td>85 Main St, Ansonia, CT 06401</td>\n",
       "      <td>{'Tuesday': '11AM–10PM', 'Wednesday': '11AM–10...</td>\n",
       "      <td>NaN</td>\n",
       "      <td>(203) 732-2000</td>\n",
       "      <td>NaN</td>\n",
       "      <td>['https://lh5.googleusercontent.com/p/AF1QipNm...</td>\n",
       "      <td>Ansonia</td>\n",
       "      <td>Connecticut</td>\n",
       "    </tr>\n",
       "    <tr>\n",
       "      <td>3</td>\n",
       "      <td>Roma Pizzeria</td>\n",
       "      <td>4.7</td>\n",
       "      <td>213 Google reviews</td>\n",
       "      <td>['$$', 'Pizza restaurant']</td>\n",
       "      <td>NaN</td>\n",
       "      <td>150 Wakelee Ave, Ansonia, CT 06401</td>\n",
       "      <td>{'Tuesday': '11AM–10PM', 'Wednesday': '11AM–10...</td>\n",
       "      <td>https://www.romact.com/menu</td>\n",
       "      <td>(203) 734-6815</td>\n",
       "      <td>http://www.romact.com/</td>\n",
       "      <td>['https://lh5.googleusercontent.com/p/AF1QipPS...</td>\n",
       "      <td>Ansonia</td>\n",
       "      <td>Connecticut</td>\n",
       "    </tr>\n",
       "    <tr>\n",
       "      <td>4</td>\n",
       "      <td>Bangkok Room</td>\n",
       "      <td>4.7</td>\n",
       "      <td>130 Google reviews</td>\n",
       "      <td>['$$', 'Thai restaurant']</td>\n",
       "      <td>NaN</td>\n",
       "      <td>76 Main St, Ansonia, CT 06401</td>\n",
       "      <td>{'Tuesday': '11:30AM–2:30PM, 4:30–8:30PM', 'We...</td>\n",
       "      <td>NaN</td>\n",
       "      <td>(203) 516-5345</td>\n",
       "      <td>http://www.bangkokroomct.com/</td>\n",
       "      <td>['https://lh5.googleusercontent.com/p/AF1QipM6...</td>\n",
       "      <td>Ansonia</td>\n",
       "      <td>Connecticut</td>\n",
       "    </tr>\n",
       "  </tbody>\n",
       "</table>\n",
       "</div>"
      ],
      "text/plain": [
       "                  title  star_count        review_count  \\\n",
       "0                 Crave         4.5  676 Google reviews   \n",
       "1              Area 143         5.0   20 Google reviews   \n",
       "2  Massimino's Pizzeria         4.5  147 Google reviews   \n",
       "3         Roma Pizzeria         4.7  213 Google reviews   \n",
       "4          Bangkok Room         4.7  130 Google reviews   \n",
       "\n",
       "                     attributes  \\\n",
       "0  ['$$', 'Spanish restaurant']   \n",
       "1                ['Restaurant']   \n",
       "2     ['$', 'Pizza restaurant']   \n",
       "3    ['$$', 'Pizza restaurant']   \n",
       "4     ['$$', 'Thai restaurant']   \n",
       "\n",
       "                                             summary  \\\n",
       "0  Caribbean fusion cuisine & cocktails with a bi...   \n",
       "1                                                NaN   \n",
       "2                                                NaN   \n",
       "3                                                NaN   \n",
       "4                                                NaN   \n",
       "\n",
       "                              address  \\\n",
       "0      102 Main St, Ansonia, CT 06401   \n",
       "1    143 N Main St, Ansonia, CT 06401   \n",
       "2       85 Main St, Ansonia, CT 06401   \n",
       "3  150 Wakelee Ave, Ansonia, CT 06401   \n",
       "4       76 Main St, Ansonia, CT 06401   \n",
       "\n",
       "                                               hours  \\\n",
       "0  {'Tuesday': '11AM–9:30PM', 'Wednesday': '11AM–...   \n",
       "1  {'Tuesday': '12–10PM', 'Wednesday': '12–10PM',...   \n",
       "2  {'Tuesday': '11AM–10PM', 'Wednesday': '11AM–10...   \n",
       "3  {'Tuesday': '11AM–10PM', 'Wednesday': '11AM–10...   \n",
       "4  {'Tuesday': '11:30AM–2:30PM, 4:30–8:30PM', 'We...   \n",
       "\n",
       "                                                menu           phone  \\\n",
       "0           http://crave102.com/home/the-menu/lunch/  (203) 735-3300   \n",
       "1  http://places.singleplatform.com/area-143/menu...  (203) 516-5456   \n",
       "2                                                NaN  (203) 732-2000   \n",
       "3                        https://www.romact.com/menu  (203) 734-6815   \n",
       "4                                                NaN  (203) 516-5345   \n",
       "\n",
       "                         website  \\\n",
       "0       http://www.crave102.com/   \n",
       "1                            NaN   \n",
       "2                            NaN   \n",
       "3         http://www.romact.com/   \n",
       "4  http://www.bangkokroomct.com/   \n",
       "\n",
       "                                            pictures     city        state  \n",
       "0  ['https://lh5.googleusercontent.com/p/AF1QipML...  Ansonia  Connecticut  \n",
       "1  ['https://lh5.googleusercontent.com/p/AF1QipNz...  Ansonia  Connecticut  \n",
       "2  ['https://lh5.googleusercontent.com/p/AF1QipNm...  Ansonia  Connecticut  \n",
       "3  ['https://lh5.googleusercontent.com/p/AF1QipPS...  Ansonia  Connecticut  \n",
       "4  ['https://lh5.googleusercontent.com/p/AF1QipM6...  Ansonia  Connecticut  "
      ]
     },
     "execution_count": 11,
     "metadata": {},
     "output_type": "execute_result"
    }
   ],
   "source": [
    "ct_restaurants.head()"
   ]
  },
  {
   "cell_type": "code",
   "execution_count": 12,
   "metadata": {},
   "outputs": [
    {
     "data": {
      "text/html": [
       "<div>\n",
       "<style scoped>\n",
       "    .dataframe tbody tr th:only-of-type {\n",
       "        vertical-align: middle;\n",
       "    }\n",
       "\n",
       "    .dataframe tbody tr th {\n",
       "        vertical-align: top;\n",
       "    }\n",
       "\n",
       "    .dataframe thead th {\n",
       "        text-align: right;\n",
       "    }\n",
       "</style>\n",
       "<table border=\"1\" class=\"dataframe\">\n",
       "  <thead>\n",
       "    <tr style=\"text-align: right;\">\n",
       "      <th></th>\n",
       "      <th>title</th>\n",
       "      <th>address</th>\n",
       "    </tr>\n",
       "  </thead>\n",
       "  <tbody>\n",
       "    <tr>\n",
       "      <td>0</td>\n",
       "      <td>Crave</td>\n",
       "      <td>102 Main St, Ansonia, CT 06401</td>\n",
       "    </tr>\n",
       "    <tr>\n",
       "      <td>1</td>\n",
       "      <td>Area 143</td>\n",
       "      <td>143 N Main St, Ansonia, CT 06401</td>\n",
       "    </tr>\n",
       "    <tr>\n",
       "      <td>2</td>\n",
       "      <td>Massimino's Pizzeria</td>\n",
       "      <td>85 Main St, Ansonia, CT 06401</td>\n",
       "    </tr>\n",
       "    <tr>\n",
       "      <td>3</td>\n",
       "      <td>Roma Pizzeria</td>\n",
       "      <td>150 Wakelee Ave, Ansonia, CT 06401</td>\n",
       "    </tr>\n",
       "    <tr>\n",
       "      <td>4</td>\n",
       "      <td>Bangkok Room</td>\n",
       "      <td>76 Main St, Ansonia, CT 06401</td>\n",
       "    </tr>\n",
       "  </tbody>\n",
       "</table>\n",
       "</div>"
      ],
      "text/plain": [
       "                  title                             address\n",
       "0                 Crave      102 Main St, Ansonia, CT 06401\n",
       "1              Area 143    143 N Main St, Ansonia, CT 06401\n",
       "2  Massimino's Pizzeria       85 Main St, Ansonia, CT 06401\n",
       "3         Roma Pizzeria  150 Wakelee Ave, Ansonia, CT 06401\n",
       "4          Bangkok Room       76 Main St, Ansonia, CT 06401"
      ]
     },
     "execution_count": 12,
     "metadata": {},
     "output_type": "execute_result"
    }
   ],
   "source": [
    "addresses.head()"
   ]
  },
  {
   "cell_type": "code",
   "execution_count": 4,
   "metadata": {},
   "outputs": [
    {
     "name": "stdout",
     "output_type": "stream",
     "text": [
      "Addresses: 7549\n",
      "ct_restaurants: 9832\n",
      "discover_ct: 580\n",
      "restaurants: 6982\n",
      "second_thread: 3992\n",
      "state_data: 50\n"
     ]
    }
   ],
   "source": [
    "print(f\"Addresses: {len(addresses)}\")\n",
    "print(f\"ct_restaurants: {len(ct_restaurants)}\")\n",
    "print(f\"discover_ct: {len(discover_ct)}\")\n",
    "\n",
    "print(f\"restaurants: {len(restaurants)}\")\n",
    "print(f\"second_thread: {len(second_thread)}\")\n",
    "print(f\"state_data: {len(state_data)}\")"
   ]
  },
  {
   "cell_type": "code",
   "execution_count": 4,
   "metadata": {},
   "outputs": [
    {
     "data": {
      "text/plain": [
       "4930"
      ]
     },
     "execution_count": 4,
     "metadata": {},
     "output_type": "execute_result"
    }
   ],
   "source": [
    "df = pd.read_csv(\"./restaurants.csv\",index_col=0)\n",
    "len(df)"
   ]
  },
  {
   "cell_type": "code",
   "execution_count": 12,
   "metadata": {},
   "outputs": [
    {
     "data": {
      "text/plain": [
       "\"['Alexander City', 'Andalusia', 'Anniston', 'Athens', 'Atmore', 'Auburn', 'Bessemer', 'Birmingham', 'Chickasaw', 'Clanton', 'Cullman', 'Decatur', 'Demopolis', 'Dothan', 'Enterprise', 'Eufaula', 'Florence', 'Fort Payne', 'Gadsden', 'Greenville', 'Guntersville', 'Huntsville', 'Jasper', 'Marion', 'Mobile', 'Montgomery', 'Opelika', 'Ozark', 'Phenix City', 'Prichard', 'Scottsboro', 'Selma', 'Sheffield', 'Sylacauga', 'Talladega', 'Troy', 'Tuscaloosa', 'Tuscumbia', 'Tuskegee']\""
      ]
     },
     "execution_count": 12,
     "metadata": {},
     "output_type": "execute_result"
    }
   ],
   "source": [
    "states['Cities'][0]"
   ]
  },
  {
   "cell_type": "code",
   "execution_count": 15,
   "metadata": {},
   "outputs": [],
   "source": [
    "df = pd.read_csv(\"./second_thread.csv\", index_col=0)"
   ]
  },
  {
   "cell_type": "code",
   "execution_count": 16,
   "metadata": {},
   "outputs": [
    {
     "data": {
      "text/plain": [
       "1211"
      ]
     },
     "execution_count": 16,
     "metadata": {},
     "output_type": "execute_result"
    }
   ],
   "source": [
    "len(df)"
   ]
  },
  {
   "cell_type": "code",
   "execution_count": 18,
   "metadata": {},
   "outputs": [
    {
     "data": {
      "text/html": [
       "<div>\n",
       "<style scoped>\n",
       "    .dataframe tbody tr th:only-of-type {\n",
       "        vertical-align: middle;\n",
       "    }\n",
       "\n",
       "    .dataframe tbody tr th {\n",
       "        vertical-align: top;\n",
       "    }\n",
       "\n",
       "    .dataframe thead th {\n",
       "        text-align: right;\n",
       "    }\n",
       "</style>\n",
       "<table border=\"1\" class=\"dataframe\">\n",
       "  <thead>\n",
       "    <tr style=\"text-align: right;\">\n",
       "      <th></th>\n",
       "      <th>title</th>\n",
       "      <th>star_count</th>\n",
       "      <th>review_count</th>\n",
       "      <th>attributes</th>\n",
       "      <th>summary</th>\n",
       "      <th>address</th>\n",
       "      <th>hours</th>\n",
       "      <th>menu</th>\n",
       "      <th>phone</th>\n",
       "      <th>website</th>\n",
       "      <th>pictures</th>\n",
       "      <th>city</th>\n",
       "      <th>state</th>\n",
       "    </tr>\n",
       "  </thead>\n",
       "  <tbody>\n",
       "    <tr>\n",
       "      <td>0</td>\n",
       "      <td>Nino's Del Sol LLC</td>\n",
       "      <td>4.5</td>\n",
       "      <td>512 Google reviews</td>\n",
       "      <td>['$$', 'Restaurant']</td>\n",
       "      <td>NaN</td>\n",
       "      <td>326 Main St, Alamosa, CO 81101</td>\n",
       "      <td>{'Friday': '11AM–9PM', 'Saturday': '11AM–9PM',...</td>\n",
       "      <td>NaN</td>\n",
       "      <td>(719) 587-0101</td>\n",
       "      <td>NaN</td>\n",
       "      <td>['https://lh5.googleusercontent.com/p/AF1QipOa...</td>\n",
       "      <td>Alamosa</td>\n",
       "      <td>Colorado</td>\n",
       "    </tr>\n",
       "    <tr>\n",
       "      <td>1</td>\n",
       "      <td>Juanitos Mexican Kitchen</td>\n",
       "      <td>4.4</td>\n",
       "      <td>199 Google reviews</td>\n",
       "      <td>['$', 'Restaurant']</td>\n",
       "      <td>NaN</td>\n",
       "      <td>1019 6th St, Alamosa, CO 81101</td>\n",
       "      <td>{'Friday': '11AM–9PM', 'Saturday': '11AM–9PM',...</td>\n",
       "      <td>NaN</td>\n",
       "      <td>(719) 589-0277</td>\n",
       "      <td>http://juanitosmexicankitchen.com/</td>\n",
       "      <td>['https://lh5.googleusercontent.com/p/AF1QipN3...</td>\n",
       "      <td>Alamosa</td>\n",
       "      <td>Colorado</td>\n",
       "    </tr>\n",
       "    <tr>\n",
       "      <td>2</td>\n",
       "      <td>Calvillo's Mexican Restaurant</td>\n",
       "      <td>4.4</td>\n",
       "      <td>1,331 Google reviews</td>\n",
       "      <td>['$$', 'Mexican restaurant']</td>\n",
       "      <td>Lively Mexican bar/eatery offering menu option...</td>\n",
       "      <td>400 Main St, Alamosa, CO 81101</td>\n",
       "      <td>{}</td>\n",
       "      <td>NaN</td>\n",
       "      <td>(719) 587-5500</td>\n",
       "      <td>NaN</td>\n",
       "      <td>['https://lh5.googleusercontent.com/p/AF1QipOz...</td>\n",
       "      <td>Alamosa</td>\n",
       "      <td>Colorado</td>\n",
       "    </tr>\n",
       "    <tr>\n",
       "      <td>3</td>\n",
       "      <td>The Essential Garden Cafe</td>\n",
       "      <td>4.0</td>\n",
       "      <td>15 Google reviews</td>\n",
       "      <td>['Restaurant']</td>\n",
       "      <td>NaN</td>\n",
       "      <td>507 State Ave, Alamosa, CO 81101</td>\n",
       "      <td>{'Friday': '7:30AM–3PM', 'Saturday': '7:30AM–3...</td>\n",
       "      <td>NaN</td>\n",
       "      <td>(719) 937-2828</td>\n",
       "      <td>NaN</td>\n",
       "      <td>['https://lh5.googleusercontent.com/p/AF1QipMW...</td>\n",
       "      <td>Alamosa</td>\n",
       "      <td>Colorado</td>\n",
       "    </tr>\n",
       "    <tr>\n",
       "      <td>4</td>\n",
       "      <td>The Rubi Slipper</td>\n",
       "      <td>4.6</td>\n",
       "      <td>670 Google reviews</td>\n",
       "      <td>['$$', 'American restaurant']</td>\n",
       "      <td>NaN</td>\n",
       "      <td>506 State Ave, Alamosa, CO 81101</td>\n",
       "      <td>{'Friday': '11AM–8:30PM', 'Saturday': '11AM–8:...</td>\n",
       "      <td>NaN</td>\n",
       "      <td>(719) 589-2641</td>\n",
       "      <td>NaN</td>\n",
       "      <td>['https://lh5.googleusercontent.com/p/AF1QipOM...</td>\n",
       "      <td>Alamosa</td>\n",
       "      <td>Colorado</td>\n",
       "    </tr>\n",
       "  </tbody>\n",
       "</table>\n",
       "</div>"
      ],
      "text/plain": [
       "                           title  star_count          review_count  \\\n",
       "0             Nino's Del Sol LLC         4.5    512 Google reviews   \n",
       "1       Juanitos Mexican Kitchen         4.4    199 Google reviews   \n",
       "2  Calvillo's Mexican Restaurant         4.4  1,331 Google reviews   \n",
       "3      The Essential Garden Cafe         4.0     15 Google reviews   \n",
       "4               The Rubi Slipper         4.6    670 Google reviews   \n",
       "\n",
       "                      attributes  \\\n",
       "0           ['$$', 'Restaurant']   \n",
       "1            ['$', 'Restaurant']   \n",
       "2   ['$$', 'Mexican restaurant']   \n",
       "3                 ['Restaurant']   \n",
       "4  ['$$', 'American restaurant']   \n",
       "\n",
       "                                             summary  \\\n",
       "0                                                NaN   \n",
       "1                                                NaN   \n",
       "2  Lively Mexican bar/eatery offering menu option...   \n",
       "3                                                NaN   \n",
       "4                                                NaN   \n",
       "\n",
       "                            address  \\\n",
       "0    326 Main St, Alamosa, CO 81101   \n",
       "1    1019 6th St, Alamosa, CO 81101   \n",
       "2    400 Main St, Alamosa, CO 81101   \n",
       "3  507 State Ave, Alamosa, CO 81101   \n",
       "4  506 State Ave, Alamosa, CO 81101   \n",
       "\n",
       "                                               hours menu           phone  \\\n",
       "0  {'Friday': '11AM–9PM', 'Saturday': '11AM–9PM',...  NaN  (719) 587-0101   \n",
       "1  {'Friday': '11AM–9PM', 'Saturday': '11AM–9PM',...  NaN  (719) 589-0277   \n",
       "2                                                 {}  NaN  (719) 587-5500   \n",
       "3  {'Friday': '7:30AM–3PM', 'Saturday': '7:30AM–3...  NaN  (719) 937-2828   \n",
       "4  {'Friday': '11AM–8:30PM', 'Saturday': '11AM–8:...  NaN  (719) 589-2641   \n",
       "\n",
       "                              website  \\\n",
       "0                                 NaN   \n",
       "1  http://juanitosmexicankitchen.com/   \n",
       "2                                 NaN   \n",
       "3                                 NaN   \n",
       "4                                 NaN   \n",
       "\n",
       "                                            pictures     city     state  \n",
       "0  ['https://lh5.googleusercontent.com/p/AF1QipOa...  Alamosa  Colorado  \n",
       "1  ['https://lh5.googleusercontent.com/p/AF1QipN3...  Alamosa  Colorado  \n",
       "2  ['https://lh5.googleusercontent.com/p/AF1QipOz...  Alamosa  Colorado  \n",
       "3  ['https://lh5.googleusercontent.com/p/AF1QipMW...  Alamosa  Colorado  \n",
       "4  ['https://lh5.googleusercontent.com/p/AF1QipOM...  Alamosa  Colorado  "
      ]
     },
     "execution_count": 18,
     "metadata": {},
     "output_type": "execute_result"
    }
   ],
   "source": [
    "df.head()"
   ]
  },
  {
   "cell_type": "code",
   "execution_count": null,
   "metadata": {},
   "outputs": [],
   "source": []
  }
 ],
 "metadata": {
  "kernelspec": {
   "display_name": "Python 3",
   "language": "python",
   "name": "python3"
  },
  "language_info": {
   "codemirror_mode": {
    "name": "ipython",
    "version": 3
   },
   "file_extension": ".py",
   "mimetype": "text/x-python",
   "name": "python",
   "nbconvert_exporter": "python",
   "pygments_lexer": "ipython3",
   "version": "3.8.5"
  }
 },
 "nbformat": 4,
 "nbformat_minor": 4
}
