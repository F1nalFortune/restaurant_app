{
 "cells": [
  {
   "cell_type": "code",
   "execution_count": 14,
   "metadata": {},
   "outputs": [
    {
     "name": "stderr",
     "output_type": "stream",
     "text": [
      "b'Skipping line 15999: expected 1 fields, saw 2\\nSkipping line 16000: expected 1 fields, saw 2\\nSkipping line 16001: expected 1 fields, saw 2\\nSkipping line 16002: expected 1 fields, saw 2\\nSkipping line 16003: expected 1 fields, saw 2\\nSkipping line 16004: expected 1 fields, saw 2\\nSkipping line 16005: expected 1 fields, saw 2\\nSkipping line 16006: expected 1 fields, saw 2\\nSkipping line 16007: expected 1 fields, saw 2\\nSkipping line 16008: expected 1 fields, saw 2\\nSkipping line 16009: expected 1 fields, saw 2\\nSkipping line 16010: expected 1 fields, saw 2\\nSkipping line 16011: expected 1 fields, saw 2\\nSkipping line 16012: expected 1 fields, saw 2\\nSkipping line 16013: expected 1 fields, saw 2\\nSkipping line 16014: expected 1 fields, saw 2\\nSkipping line 16015: expected 1 fields, saw 2\\nSkipping line 16016: expected 1 fields, saw 2\\nSkipping line 16017: expected 1 fields, saw 2\\nSkipping line 16018: expected 1 fields, saw 2\\nSkipping line 16019: expected 1 fields, saw 2\\nSkipping line 16020: expected 1 fields, saw 2\\nSkipping line 16021: expected 1 fields, saw 2\\nSkipping line 16022: expected 1 fields, saw 2\\nSkipping line 16023: expected 1 fields, saw 2\\nSkipping line 16024: expected 1 fields, saw 2\\nSkipping line 16025: expected 1 fields, saw 2\\nSkipping line 16026: expected 1 fields, saw 2\\nSkipping line 16027: expected 1 fields, saw 2\\nSkipping line 16028: expected 1 fields, saw 2\\nSkipping line 16029: expected 1 fields, saw 2\\nSkipping line 16030: expected 1 fields, saw 2\\nSkipping line 16031: expected 1 fields, saw 2\\nSkipping line 16032: expected 1 fields, saw 2\\nSkipping line 16033: expected 1 fields, saw 2\\nSkipping line 16034: expected 1 fields, saw 2\\nSkipping line 16035: expected 1 fields, saw 2\\nSkipping line 16036: expected 1 fields, saw 2\\nSkipping line 16037: expected 1 fields, saw 2\\nSkipping line 16038: expected 1 fields, saw 2\\nSkipping line 16120: expected 1 fields, saw 2\\nSkipping line 16121: expected 1 fields, saw 2\\nSkipping line 16122: expected 1 fields, saw 2\\nSkipping line 16123: expected 1 fields, saw 2\\nSkipping line 16124: expected 1 fields, saw 2\\nSkipping line 16125: expected 1 fields, saw 2\\nSkipping line 16126: expected 1 fields, saw 2\\nSkipping line 16127: expected 1 fields, saw 2\\nSkipping line 16128: expected 1 fields, saw 2\\nSkipping line 16129: expected 1 fields, saw 2\\nSkipping line 16130: expected 1 fields, saw 2\\nSkipping line 16131: expected 1 fields, saw 2\\nSkipping line 16132: expected 1 fields, saw 2\\nSkipping line 16133: expected 1 fields, saw 2\\nSkipping line 16134: expected 1 fields, saw 2\\nSkipping line 16135: expected 1 fields, saw 2\\nSkipping line 16136: expected 1 fields, saw 2\\nSkipping line 16137: expected 1 fields, saw 2\\nSkipping line 16138: expected 1 fields, saw 2\\nSkipping line 16139: expected 1 fields, saw 2\\nSkipping line 16140: expected 1 fields, saw 2\\nSkipping line 16141: expected 1 fields, saw 2\\nSkipping line 16142: expected 1 fields, saw 2\\nSkipping line 16143: expected 1 fields, saw 2\\nSkipping line 16144: expected 1 fields, saw 2\\nSkipping line 16145: expected 1 fields, saw 2\\nSkipping line 16146: expected 1 fields, saw 2\\nSkipping line 16147: expected 1 fields, saw 2\\nSkipping line 16148: expected 1 fields, saw 2\\nSkipping line 16149: expected 1 fields, saw 2\\nSkipping line 16150: expected 1 fields, saw 2\\nSkipping line 16151: expected 1 fields, saw 2\\nSkipping line 16152: expected 1 fields, saw 2\\nSkipping line 16153: expected 1 fields, saw 2\\nSkipping line 16154: expected 1 fields, saw 2\\nSkipping line 16155: expected 1 fields, saw 2\\nSkipping line 16156: expected 1 fields, saw 2\\nSkipping line 16157: expected 1 fields, saw 2\\nSkipping line 16158: expected 1 fields, saw 2\\nSkipping line 16159: expected 1 fields, saw 2\\nSkipping line 16160: expected 1 fields, saw 2\\nSkipping line 16161: expected 1 fields, saw 2\\nSkipping line 16162: expected 1 fields, saw 2\\nSkipping line 16163: expected 1 fields, saw 2\\nSkipping line 16164: expected 1 fields, saw 2\\nSkipping line 16165: expected 1 fields, saw 2\\nSkipping line 16166: expected 1 fields, saw 2\\nSkipping line 16167: expected 1 fields, saw 2\\nSkipping line 16168: expected 1 fields, saw 2\\nSkipping line 16169: expected 1 fields, saw 2\\nSkipping line 16170: expected 1 fields, saw 2\\nSkipping line 16171: expected 1 fields, saw 2\\nSkipping line 16172: expected 1 fields, saw 2\\nSkipping line 16173: expected 1 fields, saw 2\\nSkipping line 16174: expected 1 fields, saw 2\\nSkipping line 16175: expected 1 fields, saw 2\\nSkipping line 16176: expected 1 fields, saw 2\\nSkipping line 16177: expected 1 fields, saw 2\\nSkipping line 16178: expected 1 fields, saw 2\\nSkipping line 16179: expected 1 fields, saw 2\\nSkipping line 16180: expected 1 fields, saw 2\\nSkipping line 16181: expected 1 fields, saw 2\\nSkipping line 16182: expected 1 fields, saw 2\\nSkipping line 16183: expected 1 fields, saw 2\\nSkipping line 16184: expected 1 fields, saw 2\\nSkipping line 16185: expected 1 fields, saw 2\\nSkipping line 16186: expected 1 fields, saw 2\\nSkipping line 16187: expected 1 fields, saw 2\\nSkipping line 16188: expected 1 fields, saw 2\\nSkipping line 16189: expected 1 fields, saw 2\\nSkipping line 16190: expected 1 fields, saw 2\\nSkipping line 16191: expected 1 fields, saw 2\\nSkipping line 16192: expected 1 fields, saw 2\\nSkipping line 16193: expected 1 fields, saw 2\\nSkipping line 16194: expected 1 fields, saw 2\\nSkipping line 16195: expected 1 fields, saw 2\\nSkipping line 16196: expected 1 fields, saw 2\\nSkipping line 16197: expected 1 fields, saw 2\\nSkipping line 16198: expected 1 fields, saw 2\\nSkipping line 16199: expected 1 fields, saw 2\\nSkipping line 16200: expected 1 fields, saw 2\\nSkipping line 16201: expected 1 fields, saw 2\\nSkipping line 16202: expected 1 fields, saw 2\\nSkipping line 16203: expected 1 fields, saw 2\\nSkipping line 16204: expected 1 fields, saw 2\\nSkipping line 16205: expected 1 fields, saw 2\\nSkipping line 16206: expected 1 fields, saw 2\\nSkipping line 16207: expected 1 fields, saw 2\\nSkipping line 16208: expected 1 fields, saw 2\\nSkipping line 16209: expected 1 fields, saw 2\\nSkipping line 16210: expected 1 fields, saw 2\\nSkipping line 16211: expected 1 fields, saw 2\\nSkipping line 16212: expected 1 fields, saw 2\\nSkipping line 16213: expected 1 fields, saw 2\\nSkipping line 16214: expected 1 fields, saw 2\\nSkipping line 16215: expected 1 fields, saw 2\\nSkipping line 16216: expected 1 fields, saw 2\\nSkipping line 16217: expected 1 fields, saw 2\\nSkipping line 16218: expected 1 fields, saw 2\\nSkipping line 16219: expected 1 fields, saw 2\\nSkipping line 16220: expected 1 fields, saw 2\\nSkipping line 16221: expected 1 fields, saw 2\\nSkipping line 16222: expected 1 fields, saw 2\\nSkipping line 16223: expected 1 fields, saw 2\\nSkipping line 16224: expected 1 fields, saw 2\\nSkipping line 16225: expected 1 fields, saw 2\\nSkipping line 16226: expected 1 fields, saw 2\\nSkipping line 16227: expected 1 fields, saw 2\\nSkipping line 16228: expected 1 fields, saw 2\\nSkipping line 16229: expected 1 fields, saw 2\\nSkipping line 16230: expected 1 fields, saw 2\\nSkipping line 16231: expected 1 fields, saw 2\\nSkipping line 16232: expected 1 fields, saw 2\\nSkipping line 16233: expected 1 fields, saw 2\\nSkipping line 16234: expected 1 fields, saw 2\\nSkipping line 16235: expected 1 fields, saw 2\\nSkipping line 16236: expected 1 fields, saw 2\\nSkipping line 16237: expected 1 fields, saw 2\\nSkipping line 16238: expected 1 fields, saw 2\\nSkipping line 16239: expected 1 fields, saw 2\\nSkipping line 16240: expected 1 fields, saw 2\\nSkipping line 16241: expected 1 fields, saw 2\\nSkipping line 16242: expected 1 fields, saw 2\\nSkipping line 16243: expected 1 fields, saw 2\\nSkipping line 16244: expected 1 fields, saw 2\\nSkipping line 16245: expected 1 fields, saw 2\\nSkipping line 16246: expected 1 fields, saw 2\\nSkipping line 16247: expected 1 fields, saw 2\\nSkipping line 16248: expected 1 fields, saw 2\\nSkipping line 16249: expected 1 fields, saw 2\\nSkipping line 16250: expected 1 fields, saw 2\\nSkipping line 16251: expected 1 fields, saw 2\\nSkipping line 16252: expected 1 fields, saw 2\\nSkipping line 16253: expected 1 fields, saw 2\\nSkipping line 16254: expected 1 fields, saw 2\\nSkipping line 16255: expected 1 fields, saw 2\\nSkipping line 16256: expected 1 fields, saw 2\\nSkipping line 16257: expected 1 fields, saw 2\\nSkipping line 16258: expected 1 fields, saw 2\\nSkipping line 16259: expected 1 fields, saw 2\\nSkipping line 16260: expected 1 fields, saw 2\\nSkipping line 16261: expected 1 fields, saw 2\\nSkipping line 16262: expected 1 fields, saw 2\\nSkipping line 16263: expected 1 fields, saw 2\\nSkipping line 16264: expected 1 fields, saw 2\\nSkipping line 16265: expected 1 fields, saw 2\\nSkipping line 16266: expected 1 fields, saw 2\\nSkipping line 16267: expected 1 fields, saw 2\\nSkipping line 16268: expected 1 fields, saw 2\\nSkipping line 16269: expected 1 fields, saw 2\\nSkipping line 16270: expected 1 fields, saw 2\\nSkipping line 16271: expected 1 fields, saw 2\\nSkipping line 16272: expected 1 fields, saw 2\\nSkipping line 16273: expected 1 fields, saw 2\\nSkipping line 16274: expected 1 fields, saw 2\\nSkipping line 16275: expected 1 fields, saw 2\\nSkipping line 16276: expected 1 fields, saw 2\\nSkipping line 16277: expected 1 fields, saw 2\\nSkipping line 16278: expected 1 fields, saw 2\\nSkipping line 16279: expected 1 fields, saw 2\\nSkipping line 16280: expected 1 fields, saw 2\\nSkipping line 16281: expected 1 fields, saw 2\\nSkipping line 16282: expected 1 fields, saw 2\\nSkipping line 16283: expected 1 fields, saw 2\\nSkipping line 16284: expected 1 fields, saw 2\\nSkipping line 16285: expected 1 fields, saw 2\\nSkipping line 16286: expected 1 fields, saw 2\\nSkipping line 16287: expected 1 fields, saw 2\\nSkipping line 16288: expected 1 fields, saw 2\\nSkipping line 16289: expected 1 fields, saw 2\\nSkipping line 16290: expected 1 fields, saw 2\\nSkipping line 16291: expected 1 fields, saw 2\\nSkipping line 16292: expected 1 fields, saw 2\\nSkipping line 16293: expected 1 fields, saw 2\\nSkipping line 16294: expected 1 fields, saw 2\\nSkipping line 16295: expected 1 fields, saw 2\\nSkipping line 16296: expected 1 fields, saw 2\\nSkipping line 16297: expected 1 fields, saw 2\\nSkipping line 16298: expected 1 fields, saw 2\\nSkipping line 16299: expected 1 fields, saw 2\\nSkipping line 16300: expected 1 fields, saw 2\\nSkipping line 16301: expected 1 fields, saw 2\\nSkipping line 16302: expected 1 fields, saw 2\\nSkipping line 16303: expected 1 fields, saw 2\\nSkipping line 16304: expected 1 fields, saw 2\\nSkipping line 16305: expected 1 fields, saw 2\\nSkipping line 16306: expected 1 fields, saw 2\\nSkipping line 16307: expected 1 fields, saw 2\\nSkipping line 16308: expected 1 fields, saw 2\\nSkipping line 16309: expected 1 fields, saw 2\\nSkipping line 16310: expected 1 fields, saw 2\\nSkipping line 16311: expected 1 fields, saw 2\\nSkipping line 16312: expected 1 fields, saw 2\\nSkipping line 16313: expected 1 fields, saw 2\\nSkipping line 16314: expected 1 fields, saw 2\\nSkipping line 16315: expected 1 fields, saw 2\\nSkipping line 16316: expected 1 fields, saw 2\\nSkipping line 16317: expected 1 fields, saw 2\\nSkipping line 16318: expected 1 fields, saw 2\\nSkipping line 16323: expected 1 fields, saw 2\\nSkipping line 16324: expected 1 fields, saw 2\\nSkipping line 16325: expected 1 fields, saw 2\\nSkipping line 16326: expected 1 fields, saw 2\\nSkipping line 16341: expected 1 fields, saw 2\\nSkipping line 39522: expected 1 fields, saw 2\\nSkipping line 39523: expected 1 fields, saw 2\\nSkipping line 39524: expected 1 fields, saw 2\\nSkipping line 39525: expected 1 fields, saw 2\\n'\n"
     ]
    }
   ],
   "source": [
    "import pandas as pd\n",
    "import numpy as np\n",
    "df = pd.read_csv(\"./raw_us_cities_states_counties.csv\", error_bad_lines=False)"
   ]
  },
  {
   "cell_type": "code",
   "execution_count": 15,
   "metadata": {},
   "outputs": [],
   "source": [
    "values = df.columns.tolist()[0].split(\"|\")"
   ]
  },
  {
   "cell_type": "code",
   "execution_count": 16,
   "metadata": {},
   "outputs": [
    {
     "name": "stdout",
     "output_type": "stream",
     "text": [
      "City\n",
      "State short\n",
      "State full\n",
      "County\n",
      "City alias\n"
     ]
    }
   ],
   "source": [
    "for val in values:\n",
    "#   data = df[val]\n",
    "  print(val)\n",
    "  index = values.index(val)\n",
    "  temp = []\n",
    "  for row in df.itertuples():\n",
    "    try:\n",
    "      data = row._1.split(\"|\")[index]\n",
    "    except:\n",
    "      data = np.nan\n",
    "    temp.append(data)\n",
    "  df[val]=temp"
   ]
  },
  {
   "cell_type": "code",
   "execution_count": 18,
   "metadata": {},
   "outputs": [
    {
     "data": {
      "text/html": [
       "<div>\n",
       "<style scoped>\n",
       "    .dataframe tbody tr th:only-of-type {\n",
       "        vertical-align: middle;\n",
       "    }\n",
       "\n",
       "    .dataframe tbody tr th {\n",
       "        vertical-align: top;\n",
       "    }\n",
       "\n",
       "    .dataframe thead th {\n",
       "        text-align: right;\n",
       "    }\n",
       "</style>\n",
       "<table border=\"1\" class=\"dataframe\">\n",
       "  <thead>\n",
       "    <tr style=\"text-align: right;\">\n",
       "      <th></th>\n",
       "      <th>City|State short|State full|County|City alias</th>\n",
       "      <th>City</th>\n",
       "      <th>State short</th>\n",
       "      <th>State full</th>\n",
       "      <th>County</th>\n",
       "      <th>City alias</th>\n",
       "    </tr>\n",
       "  </thead>\n",
       "  <tbody>\n",
       "    <tr>\n",
       "      <th>0</th>\n",
       "      <td>Holtsville|NY|New York|SUFFOLK|Internal Revenu...</td>\n",
       "      <td>Holtsville</td>\n",
       "      <td>NY</td>\n",
       "      <td>New York</td>\n",
       "      <td>SUFFOLK</td>\n",
       "      <td>Internal Revenue Service</td>\n",
       "    </tr>\n",
       "    <tr>\n",
       "      <th>1</th>\n",
       "      <td>Holtsville|NY|New York|SUFFOLK|Holtsville</td>\n",
       "      <td>Holtsville</td>\n",
       "      <td>NY</td>\n",
       "      <td>New York</td>\n",
       "      <td>SUFFOLK</td>\n",
       "      <td>Holtsville</td>\n",
       "    </tr>\n",
       "    <tr>\n",
       "      <th>2</th>\n",
       "      <td>Adjuntas|PR|Puerto Rico|ADJUNTAS|URB San Joaquin</td>\n",
       "      <td>Adjuntas</td>\n",
       "      <td>PR</td>\n",
       "      <td>Puerto Rico</td>\n",
       "      <td>ADJUNTAS</td>\n",
       "      <td>URB San Joaquin</td>\n",
       "    </tr>\n",
       "    <tr>\n",
       "      <th>3</th>\n",
       "      <td>Adjuntas|PR|Puerto Rico|ADJUNTAS|Jard De Adjuntas</td>\n",
       "      <td>Adjuntas</td>\n",
       "      <td>PR</td>\n",
       "      <td>Puerto Rico</td>\n",
       "      <td>ADJUNTAS</td>\n",
       "      <td>Jard De Adjuntas</td>\n",
       "    </tr>\n",
       "    <tr>\n",
       "      <th>4</th>\n",
       "      <td>Adjuntas|PR|Puerto Rico|ADJUNTAS|Colinas Del G...</td>\n",
       "      <td>Adjuntas</td>\n",
       "      <td>PR</td>\n",
       "      <td>Puerto Rico</td>\n",
       "      <td>ADJUNTAS</td>\n",
       "      <td>Colinas Del Gigante</td>\n",
       "    </tr>\n",
       "    <tr>\n",
       "      <th>...</th>\n",
       "      <td>...</td>\n",
       "      <td>...</td>\n",
       "      <td>...</td>\n",
       "      <td>...</td>\n",
       "      <td>...</td>\n",
       "      <td>...</td>\n",
       "    </tr>\n",
       "    <tr>\n",
       "      <th>62958</th>\n",
       "      <td>Klawock|AK|Alaska|PRINCE OF WALES HYDER|Klawock</td>\n",
       "      <td>Klawock</td>\n",
       "      <td>AK</td>\n",
       "      <td>Alaska</td>\n",
       "      <td>PRINCE OF WALES HYDER</td>\n",
       "      <td>Klawock</td>\n",
       "    </tr>\n",
       "    <tr>\n",
       "      <th>62959</th>\n",
       "      <td>Metlakatla|AK|Alaska|PRINCE OF WALES HYDER|Met...</td>\n",
       "      <td>Metlakatla</td>\n",
       "      <td>AK</td>\n",
       "      <td>Alaska</td>\n",
       "      <td>PRINCE OF WALES HYDER</td>\n",
       "      <td>Metlakatla</td>\n",
       "    </tr>\n",
       "    <tr>\n",
       "      <th>62960</th>\n",
       "      <td>Point Baker|AK|Alaska|PRINCE OF WALES HYDER|Po...</td>\n",
       "      <td>Point Baker</td>\n",
       "      <td>AK</td>\n",
       "      <td>Alaska</td>\n",
       "      <td>PRINCE OF WALES HYDER</td>\n",
       "      <td>Point Baker</td>\n",
       "    </tr>\n",
       "    <tr>\n",
       "      <th>62961</th>\n",
       "      <td>Ward Cove|AK|Alaska|KETCHIKAN GATEWAY|Ward Cove</td>\n",
       "      <td>Ward Cove</td>\n",
       "      <td>AK</td>\n",
       "      <td>Alaska</td>\n",
       "      <td>KETCHIKAN GATEWAY</td>\n",
       "      <td>Ward Cove</td>\n",
       "    </tr>\n",
       "    <tr>\n",
       "      <th>62962</th>\n",
       "      <td>Wrangell|AK|Alaska|WRANGELL|Wrangell</td>\n",
       "      <td>Wrangell</td>\n",
       "      <td>AK</td>\n",
       "      <td>Alaska</td>\n",
       "      <td>WRANGELL</td>\n",
       "      <td>Wrangell</td>\n",
       "    </tr>\n",
       "  </tbody>\n",
       "</table>\n",
       "<p>62963 rows × 6 columns</p>\n",
       "</div>"
      ],
      "text/plain": [
       "           City|State short|State full|County|City alias         City  \\\n",
       "0      Holtsville|NY|New York|SUFFOLK|Internal Revenu...   Holtsville   \n",
       "1              Holtsville|NY|New York|SUFFOLK|Holtsville   Holtsville   \n",
       "2       Adjuntas|PR|Puerto Rico|ADJUNTAS|URB San Joaquin     Adjuntas   \n",
       "3      Adjuntas|PR|Puerto Rico|ADJUNTAS|Jard De Adjuntas     Adjuntas   \n",
       "4      Adjuntas|PR|Puerto Rico|ADJUNTAS|Colinas Del G...     Adjuntas   \n",
       "...                                                  ...          ...   \n",
       "62958    Klawock|AK|Alaska|PRINCE OF WALES HYDER|Klawock      Klawock   \n",
       "62959  Metlakatla|AK|Alaska|PRINCE OF WALES HYDER|Met...   Metlakatla   \n",
       "62960  Point Baker|AK|Alaska|PRINCE OF WALES HYDER|Po...  Point Baker   \n",
       "62961    Ward Cove|AK|Alaska|KETCHIKAN GATEWAY|Ward Cove    Ward Cove   \n",
       "62962               Wrangell|AK|Alaska|WRANGELL|Wrangell     Wrangell   \n",
       "\n",
       "      State short   State full                 County  \\\n",
       "0              NY     New York                SUFFOLK   \n",
       "1              NY     New York                SUFFOLK   \n",
       "2              PR  Puerto Rico               ADJUNTAS   \n",
       "3              PR  Puerto Rico               ADJUNTAS   \n",
       "4              PR  Puerto Rico               ADJUNTAS   \n",
       "...           ...          ...                    ...   \n",
       "62958          AK       Alaska  PRINCE OF WALES HYDER   \n",
       "62959          AK       Alaska  PRINCE OF WALES HYDER   \n",
       "62960          AK       Alaska  PRINCE OF WALES HYDER   \n",
       "62961          AK       Alaska      KETCHIKAN GATEWAY   \n",
       "62962          AK       Alaska               WRANGELL   \n",
       "\n",
       "                     City alias  \n",
       "0      Internal Revenue Service  \n",
       "1                    Holtsville  \n",
       "2               URB San Joaquin  \n",
       "3              Jard De Adjuntas  \n",
       "4           Colinas Del Gigante  \n",
       "...                         ...  \n",
       "62958                   Klawock  \n",
       "62959                Metlakatla  \n",
       "62960               Point Baker  \n",
       "62961                 Ward Cove  \n",
       "62962                  Wrangell  \n",
       "\n",
       "[62963 rows x 6 columns]"
      ]
     },
     "execution_count": 18,
     "metadata": {},
     "output_type": "execute_result"
    }
   ],
   "source": [
    "df"
   ]
  },
  {
   "cell_type": "code",
   "execution_count": 22,
   "metadata": {},
   "outputs": [],
   "source": [
    "df= df.drop(df.columns[0],axis=1)"
   ]
  },
  {
   "cell_type": "code",
   "execution_count": 23,
   "metadata": {},
   "outputs": [
    {
     "data": {
      "text/plain": [
       "['City', 'State short', 'State full', 'County', 'City alias']"
      ]
     },
     "execution_count": 23,
     "metadata": {},
     "output_type": "execute_result"
    }
   ],
   "source": [
    "df.columns.tolist()"
   ]
  },
  {
   "cell_type": "code",
   "execution_count": 24,
   "metadata": {},
   "outputs": [
    {
     "data": {
      "text/html": [
       "<div>\n",
       "<style scoped>\n",
       "    .dataframe tbody tr th:only-of-type {\n",
       "        vertical-align: middle;\n",
       "    }\n",
       "\n",
       "    .dataframe tbody tr th {\n",
       "        vertical-align: top;\n",
       "    }\n",
       "\n",
       "    .dataframe thead th {\n",
       "        text-align: right;\n",
       "    }\n",
       "</style>\n",
       "<table border=\"1\" class=\"dataframe\">\n",
       "  <thead>\n",
       "    <tr style=\"text-align: right;\">\n",
       "      <th></th>\n",
       "      <th>City</th>\n",
       "      <th>State short</th>\n",
       "      <th>State full</th>\n",
       "      <th>County</th>\n",
       "      <th>City alias</th>\n",
       "    </tr>\n",
       "  </thead>\n",
       "  <tbody>\n",
       "    <tr>\n",
       "      <th>0</th>\n",
       "      <td>Holtsville</td>\n",
       "      <td>NY</td>\n",
       "      <td>New York</td>\n",
       "      <td>SUFFOLK</td>\n",
       "      <td>Internal Revenue Service</td>\n",
       "    </tr>\n",
       "    <tr>\n",
       "      <th>1</th>\n",
       "      <td>Holtsville</td>\n",
       "      <td>NY</td>\n",
       "      <td>New York</td>\n",
       "      <td>SUFFOLK</td>\n",
       "      <td>Holtsville</td>\n",
       "    </tr>\n",
       "    <tr>\n",
       "      <th>2</th>\n",
       "      <td>Adjuntas</td>\n",
       "      <td>PR</td>\n",
       "      <td>Puerto Rico</td>\n",
       "      <td>ADJUNTAS</td>\n",
       "      <td>URB San Joaquin</td>\n",
       "    </tr>\n",
       "    <tr>\n",
       "      <th>3</th>\n",
       "      <td>Adjuntas</td>\n",
       "      <td>PR</td>\n",
       "      <td>Puerto Rico</td>\n",
       "      <td>ADJUNTAS</td>\n",
       "      <td>Jard De Adjuntas</td>\n",
       "    </tr>\n",
       "    <tr>\n",
       "      <th>4</th>\n",
       "      <td>Adjuntas</td>\n",
       "      <td>PR</td>\n",
       "      <td>Puerto Rico</td>\n",
       "      <td>ADJUNTAS</td>\n",
       "      <td>Colinas Del Gigante</td>\n",
       "    </tr>\n",
       "  </tbody>\n",
       "</table>\n",
       "</div>"
      ],
      "text/plain": [
       "         City State short   State full    County                City alias\n",
       "0  Holtsville          NY     New York   SUFFOLK  Internal Revenue Service\n",
       "1  Holtsville          NY     New York   SUFFOLK                Holtsville\n",
       "2    Adjuntas          PR  Puerto Rico  ADJUNTAS           URB San Joaquin\n",
       "3    Adjuntas          PR  Puerto Rico  ADJUNTAS          Jard De Adjuntas\n",
       "4    Adjuntas          PR  Puerto Rico  ADJUNTAS       Colinas Del Gigante"
      ]
     },
     "execution_count": 24,
     "metadata": {},
     "output_type": "execute_result"
    }
   ],
   "source": [
    "df.head()"
   ]
  },
  {
   "cell_type": "code",
   "execution_count": null,
   "metadata": {},
   "outputs": [],
   "source": [
    "df.to_csv(\"us_cities_states_counties.csv\")"
   ]
  }
 ],
 "metadata": {
  "kernelspec": {
   "display_name": "thesis",
   "language": "python",
   "name": "thesis"
  },
  "language_info": {
   "codemirror_mode": {
    "name": "ipython",
    "version": 3
   },
   "file_extension": ".py",
   "mimetype": "text/x-python",
   "name": "python",
   "nbconvert_exporter": "python",
   "pygments_lexer": "ipython3",
   "version": "3.8.5"
  }
 },
 "nbformat": 4,
 "nbformat_minor": 4
}
